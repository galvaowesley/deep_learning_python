{
  "nbformat": 4,
  "nbformat_minor": 0,
  "metadata": {
    "colab": {
      "name": "funcoes_ativacao.ipynb",
      "provenance": []
    },
    "kernelspec": {
      "name": "python3",
      "display_name": "Python 3"
    }
  },
  "cells": [
    {
      "cell_type": "markdown",
      "metadata": {
        "id": "Up7zvHnVfRdd",
        "colab_type": "text"
      },
      "source": [
        "Importações iniciais\n",
        "\n"
      ]
    },
    {
      "cell_type": "code",
      "metadata": {
        "id": "iFgRQ9BDfYJt",
        "colab_type": "code",
        "colab": {}
      },
      "source": [
        "import numpy as np"
      ],
      "execution_count": 0,
      "outputs": []
    },
    {
      "cell_type": "markdown",
      "metadata": {
        "id": "JPnpUvO9f-49",
        "colab_type": "text"
      },
      "source": [
        "Step Function\n"
      ]
    },
    {
      "cell_type": "code",
      "metadata": {
        "id": "GKc1o9WDgC6p",
        "colab_type": "code",
        "colab": {}
      },
      "source": [
        "def stepFunction(soma):\n",
        "  if(soma >= 1):\n",
        "    return 1\n",
        "  else:\n",
        "    return 0"
      ],
      "execution_count": 0,
      "outputs": []
    },
    {
      "cell_type": "code",
      "metadata": {
        "id": "ioWZNWZfhIsP",
        "colab_type": "code",
        "colab": {}
      },
      "source": [
        "teste = stepFunction(-1)"
      ],
      "execution_count": 0,
      "outputs": []
    },
    {
      "cell_type": "code",
      "metadata": {
        "id": "QSJVf2OAhNEE",
        "colab_type": "code",
        "outputId": "a544711d-d2fd-48b9-88f8-d9c57e93277d",
        "colab": {
          "base_uri": "https://localhost:8080/",
          "height": 34
        }
      },
      "source": [
        "teste"
      ],
      "execution_count": 0,
      "outputs": [
        {
          "output_type": "execute_result",
          "data": {
            "text/plain": [
              "0"
            ]
          },
          "metadata": {
            "tags": []
          },
          "execution_count": 4
        }
      ]
    },
    {
      "cell_type": "markdown",
      "metadata": {
        "id": "R_EV6yWlhdBT",
        "colab_type": "text"
      },
      "source": [
        "Sigmoid Function"
      ]
    },
    {
      "cell_type": "code",
      "metadata": {
        "id": "MnKhJ9PrhgPN",
        "colab_type": "code",
        "colab": {}
      },
      "source": [
        "def sigmoidFunction(soma):\n",
        "  return 1 / (1 + np.exp(-soma))"
      ],
      "execution_count": 0,
      "outputs": []
    },
    {
      "cell_type": "code",
      "metadata": {
        "id": "ztn7sWxMh849",
        "colab_type": "code",
        "outputId": "6b18df22-b9c7-4cef-f660-82deb9e02e4f",
        "colab": {
          "base_uri": "https://localhost:8080/",
          "height": 34
        }
      },
      "source": [
        "teste = sigmoidFunction(2.1)\n",
        "teste"
      ],
      "execution_count": 0,
      "outputs": [
        {
          "output_type": "execute_result",
          "data": {
            "text/plain": [
              "0.8909031788043871"
            ]
          },
          "metadata": {
            "tags": []
          },
          "execution_count": 19
        }
      ]
    },
    {
      "cell_type": "markdown",
      "metadata": {
        "id": "GAUqUOkJjBS3",
        "colab_type": "text"
      },
      "source": [
        "Hyperbolic tanget"
      ]
    },
    {
      "cell_type": "code",
      "metadata": {
        "id": "hvSA9OFBjF4e",
        "colab_type": "code",
        "colab": {}
      },
      "source": [
        "def tahnFunction(soma):\n",
        "  return (np.exp(soma) - np.exp(-soma)) / (np.exp(soma) + np.exp(-soma))"
      ],
      "execution_count": 0,
      "outputs": []
    },
    {
      "cell_type": "code",
      "metadata": {
        "id": "iC0BGrA2jZF4",
        "colab_type": "code",
        "outputId": "430fac44-eadb-41f0-ca45-f4ac9b0f9ddc",
        "colab": {
          "base_uri": "https://localhost:8080/",
          "height": 34
        }
      },
      "source": [
        "teste = tahnFunction(2.1)\n",
        "teste"
      ],
      "execution_count": 0,
      "outputs": [
        {
          "output_type": "execute_result",
          "data": {
            "text/plain": [
              "0.9704519366134541"
            ]
          },
          "metadata": {
            "tags": []
          },
          "execution_count": 20
        }
      ]
    },
    {
      "cell_type": "markdown",
      "metadata": {
        "id": "ce-h3a3IlBet",
        "colab_type": "text"
      },
      "source": [
        "ReLU(rectified linear units)"
      ]
    },
    {
      "cell_type": "code",
      "metadata": {
        "id": "ISciczMzlHgs",
        "colab_type": "code",
        "colab": {}
      },
      "source": [
        "def reluFunction(soma):\n",
        "  if soma >= 0:\n",
        "    return soma\n",
        "  else:\n",
        "    return 0"
      ],
      "execution_count": 0,
      "outputs": []
    },
    {
      "cell_type": "code",
      "metadata": {
        "id": "1AhGhR3FlSW_",
        "colab_type": "code",
        "outputId": "c2727bdc-4d0d-44db-c1c0-5ed1a64a606e",
        "colab": {
          "base_uri": "https://localhost:8080/",
          "height": 34
        }
      },
      "source": [
        "teste = reluFunction(2.1)\n",
        "teste"
      ],
      "execution_count": 0,
      "outputs": [
        {
          "output_type": "execute_result",
          "data": {
            "text/plain": [
              "2.1"
            ]
          },
          "metadata": {
            "tags": []
          },
          "execution_count": 21
        }
      ]
    },
    {
      "cell_type": "markdown",
      "metadata": {
        "id": "xGverFItlhp7",
        "colab_type": "text"
      },
      "source": [
        "Linear Function"
      ]
    },
    {
      "cell_type": "code",
      "metadata": {
        "id": "G0D3xcW5ljCg",
        "colab_type": "code",
        "colab": {}
      },
      "source": [
        "def linearFunction(soma):\n",
        "  return soma"
      ],
      "execution_count": 0,
      "outputs": []
    },
    {
      "cell_type": "code",
      "metadata": {
        "id": "lZ1Bzbpnltqa",
        "colab_type": "code",
        "outputId": "7dae1050-916b-4825-aff5-c1ae1c026b6c",
        "colab": {
          "base_uri": "https://localhost:8080/",
          "height": 34
        }
      },
      "source": [
        "teste = linearFunction(2.1)\n",
        "teste"
      ],
      "execution_count": 0,
      "outputs": [
        {
          "output_type": "execute_result",
          "data": {
            "text/plain": [
              "2.1"
            ]
          },
          "metadata": {
            "tags": []
          },
          "execution_count": 22
        }
      ]
    },
    {
      "cell_type": "markdown",
      "metadata": {
        "id": "-yqzqpEOl8uu",
        "colab_type": "text"
      },
      "source": [
        "Softmax Function"
      ]
    },
    {
      "cell_type": "code",
      "metadata": {
        "id": "0pNTHxn4mIKF",
        "colab_type": "code",
        "colab": {}
      },
      "source": [
        "def softmaxFunction(x):\n",
        "  ex = np.exp(x)\n",
        "  return ex / ex.sum()"
      ],
      "execution_count": 0,
      "outputs": []
    },
    {
      "cell_type": "code",
      "metadata": {
        "id": "bra-av-rmlXF",
        "colab_type": "code",
        "outputId": "bb7937d3-4b9b-46e5-8c83-fde84aff9b89",
        "colab": {
          "base_uri": "https://localhost:8080/",
          "height": 34
        }
      },
      "source": [
        "valores = [5.0,2.0,1.3]\n",
        "print(softmaxFunction(valores))"
      ],
      "execution_count": 0,
      "outputs": [
        {
          "output_type": "stream",
          "text": [
            "[0.93065625 0.04633465 0.0230091 ]\n"
          ],
          "name": "stdout"
        }
      ]
    }
  ]
}